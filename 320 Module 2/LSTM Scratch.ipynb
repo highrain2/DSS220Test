{
 "cells": [
  {
   "cell_type": "markdown",
   "id": "7d583d3d",
   "metadata": {},
   "source": [
    "# LSTM Example\n",
    "This notebook will go through an example of processing SMS text messages and determining if they are spam or not spam.  \n",
    "\n",
    "We will do quite a bit of pre-processing, which I will briefly cover.  Further information in this topic can be found in subsequent courses or in the associated reference links.  \n",
    "\n",
    "The main purpose of this notebook is to show how to use LSTMs on a deep neural network with text data."
   ]
  },
  {
   "cell_type": "markdown",
   "id": "368029fd",
   "metadata": {},
   "source": [
    "### Dataset\n",
    "The dataset can be found on this website: https://archive.ics.uci.edu/dataset/228/sms+spam+collection.  It consists of 425 spam messages and 3375 non-spam (\"ham\") messages.  "
   ]
  },
  {
   "cell_type": "code",
   "execution_count": 1,
   "id": "53ecf1a3",
   "metadata": {},
   "outputs": [],
   "source": [
    "import pandas as pd\n",
    "import numpy as np\n",
    "import matplotlib.pyplot as plt\n",
    "import seaborn as sns\n",
    "from sklearn import datasets\n",
    "\n",
    "# Workshop Functions\n",
    "import sys\n",
    "sys.path.append('..')\n",
    "from WKDSS320_functions import * \n",
    "\n",
    "np.random.seed(1)"
   ]
  },
  {
   "cell_type": "code",
   "execution_count": 5,
   "id": "3384c0da",
   "metadata": {},
   "outputs": [],
   "source": [
    "df = pd.read_csv('SMSSpamCollection', sep='\\t', names=['label','message'])"
   ]
  },
  {
   "cell_type": "code",
   "execution_count": 8,
   "id": "44b6ba0f",
   "metadata": {},
   "outputs": [
    {
     "data": {
      "text/html": [
       "<div>\n",
       "<style scoped>\n",
       "    .dataframe tbody tr th:only-of-type {\n",
       "        vertical-align: middle;\n",
       "    }\n",
       "\n",
       "    .dataframe tbody tr th {\n",
       "        vertical-align: top;\n",
       "    }\n",
       "\n",
       "    .dataframe thead th {\n",
       "        text-align: right;\n",
       "    }\n",
       "</style>\n",
       "<table border=\"1\" class=\"dataframe\">\n",
       "  <thead>\n",
       "    <tr style=\"text-align: right;\">\n",
       "      <th></th>\n",
       "      <th>label</th>\n",
       "      <th>message</th>\n",
       "    </tr>\n",
       "  </thead>\n",
       "  <tbody>\n",
       "    <tr>\n",
       "      <th>0</th>\n",
       "      <td>ham</td>\n",
       "      <td>Go until jurong point, crazy.. Available only ...</td>\n",
       "    </tr>\n",
       "    <tr>\n",
       "      <th>1</th>\n",
       "      <td>ham</td>\n",
       "      <td>Ok lar... Joking wif u oni...</td>\n",
       "    </tr>\n",
       "    <tr>\n",
       "      <th>2</th>\n",
       "      <td>spam</td>\n",
       "      <td>Free entry in 2 a wkly comp to win FA Cup fina...</td>\n",
       "    </tr>\n",
       "    <tr>\n",
       "      <th>3</th>\n",
       "      <td>ham</td>\n",
       "      <td>U dun say so early hor... U c already then say...</td>\n",
       "    </tr>\n",
       "    <tr>\n",
       "      <th>4</th>\n",
       "      <td>ham</td>\n",
       "      <td>Nah I don't think he goes to usf, he lives aro...</td>\n",
       "    </tr>\n",
       "  </tbody>\n",
       "</table>\n",
       "</div>"
      ],
      "text/plain": [
       "  label                                            message\n",
       "0   ham  Go until jurong point, crazy.. Available only ...\n",
       "1   ham                      Ok lar... Joking wif u oni...\n",
       "2  spam  Free entry in 2 a wkly comp to win FA Cup fina...\n",
       "3   ham  U dun say so early hor... U c already then say...\n",
       "4   ham  Nah I don't think he goes to usf, he lives aro..."
      ]
     },
     "execution_count": 8,
     "metadata": {},
     "output_type": "execute_result"
    }
   ],
   "source": [
    "df.head()"
   ]
  },
  {
   "cell_type": "code",
   "execution_count": 9,
   "id": "e933f309",
   "metadata": {},
   "outputs": [
    {
     "data": {
      "text/html": [
       "<div>\n",
       "<style scoped>\n",
       "    .dataframe tbody tr th:only-of-type {\n",
       "        vertical-align: middle;\n",
       "    }\n",
       "\n",
       "    .dataframe tbody tr th {\n",
       "        vertical-align: top;\n",
       "    }\n",
       "\n",
       "    .dataframe thead th {\n",
       "        text-align: right;\n",
       "    }\n",
       "</style>\n",
       "<table border=\"1\" class=\"dataframe\">\n",
       "  <thead>\n",
       "    <tr style=\"text-align: right;\">\n",
       "      <th></th>\n",
       "      <th>label</th>\n",
       "      <th>message</th>\n",
       "    </tr>\n",
       "  </thead>\n",
       "  <tbody>\n",
       "    <tr>\n",
       "      <th>count</th>\n",
       "      <td>5572</td>\n",
       "      <td>5572</td>\n",
       "    </tr>\n",
       "    <tr>\n",
       "      <th>unique</th>\n",
       "      <td>2</td>\n",
       "      <td>5169</td>\n",
       "    </tr>\n",
       "    <tr>\n",
       "      <th>top</th>\n",
       "      <td>ham</td>\n",
       "      <td>Sorry, I'll call later</td>\n",
       "    </tr>\n",
       "    <tr>\n",
       "      <th>freq</th>\n",
       "      <td>4825</td>\n",
       "      <td>30</td>\n",
       "    </tr>\n",
       "  </tbody>\n",
       "</table>\n",
       "</div>"
      ],
      "text/plain": [
       "       label                 message\n",
       "count   5572                    5572\n",
       "unique     2                    5169\n",
       "top      ham  Sorry, I'll call later\n",
       "freq    4825                      30"
      ]
     },
     "execution_count": 9,
     "metadata": {},
     "output_type": "execute_result"
    }
   ],
   "source": [
    "df.describe()"
   ]
  },
  {
   "cell_type": "code",
   "execution_count": 10,
   "id": "7ef5aba7",
   "metadata": {},
   "outputs": [],
   "source": [
    "df.loc[:,'length']=df.loc[:,'message'].apply(len)"
   ]
  },
  {
   "cell_type": "code",
   "execution_count": 17,
   "id": "3ab9f5fa",
   "metadata": {},
   "outputs": [],
   "source": [
    "# Clean data\n",
    "from nltk.corpus import stopwords\n",
    "from nltk import download\n",
    "import string\n"
   ]
  },
  {
   "cell_type": "code",
   "execution_count": 18,
   "id": "6bd7ccff",
   "metadata": {},
   "outputs": [
    {
     "name": "stderr",
     "output_type": "stream",
     "text": [
      "[nltk_data] Downloading package stopwords to\n",
      "[nltk_data]     C:\\Users\\hiren\\AppData\\Roaming\\nltk_data...\n",
      "[nltk_data]   Unzipping corpora\\stopwords.zip.\n"
     ]
    },
    {
     "data": {
      "text/plain": [
       "True"
      ]
     },
     "execution_count": 18,
     "metadata": {},
     "output_type": "execute_result"
    }
   ],
   "source": [
    "download('stopwords')"
   ]
  },
  {
   "cell_type": "code",
   "execution_count": 19,
   "id": "1b37172e",
   "metadata": {},
   "outputs": [],
   "source": [
    "def text_process(mess):\n",
    "    \"\"\"\n",
    "    Takes in a string of text, then performs the following:\n",
    "    1. Remove all punctuation\n",
    "    2. Remove all stopwords\n",
    "    3. Returns a list of the cleaned text\n",
    "    \"\"\"\n",
    "    # Check characters to see if they are in punctuation\n",
    "    nopunc = [char for char in mess if char not in string.punctuation]\n",
    "\n",
    "    # Join the characters again to form the string.\n",
    "    nopunc = ''.join(nopunc)\n",
    "    \n",
    "    # Now just remove any stopwords\n",
    "    return [word for word in nopunc.split() if word.lower() not in stopwords.words('english')]"
   ]
  },
  {
   "cell_type": "code",
   "execution_count": 25,
   "id": "381748d8",
   "metadata": {},
   "outputs": [],
   "source": [
    "df['message'] = df['message'].apply(text_process)"
   ]
  },
  {
   "cell_type": "code",
   "execution_count": 26,
   "id": "76b8986e",
   "metadata": {},
   "outputs": [],
   "source": [
    "#write cleaned data back to a file\n",
    "df.to_csv('SMSSpamCollection_clean.csv')"
   ]
  },
  {
   "cell_type": "code",
   "execution_count": 44,
   "id": "3c135ed8",
   "metadata": {},
   "outputs": [
    {
     "data": {
      "text/plain": [
       "label                                                    ham\n",
       "message    [love, start, attractioni, feel, need, every, ...\n",
       "length                                                   910\n",
       "Name: 1085, dtype: object"
      ]
     },
     "execution_count": 44,
     "metadata": {},
     "output_type": "execute_result"
    }
   ],
   "source": [
    "df[df['length']>905].iloc[0]"
   ]
  },
  {
   "cell_type": "code",
   "execution_count": 24,
   "id": "2df65c87",
   "metadata": {},
   "outputs": [
    {
     "name": "stdout",
     "output_type": "stream",
     "text": [
      "11425\n"
     ]
    }
   ],
   "source": [
    "from sklearn.feature_extraction.text import CountVectorizer\n",
    "bow_transformer = CountVectorizer(analyzer=text_process).fit(df['message'])\n",
    "\n",
    "# Print total number of vocab words\n",
    "print(len(bow_transformer.vocabulary_))"
   ]
  },
  {
   "cell_type": "markdown",
   "id": "ed647686",
   "metadata": {},
   "source": [
    "### Trying to use Tokenizer from: \n",
    "https://towardsdatascience.com/understanding-lstm-and-its-quick-implementation-in-keras-for-sentiment-analysis-af410fd85b47\n",
    "\n",
    "and \n",
    "\n",
    "https://towardsdatascience.com/an-easy-tutorial-about-sentiment-analysis-with-deep-learning-and-keras-2bf52b9cba91\n"
   ]
  },
  {
   "cell_type": "code",
   "execution_count": 73,
   "id": "ba129402",
   "metadata": {},
   "outputs": [
    {
     "data": {
      "text/plain": [
       "(5572, 100)"
      ]
     },
     "execution_count": 73,
     "metadata": {},
     "output_type": "execute_result"
    }
   ],
   "source": [
    "from keras.preprocessing.text import Tokenizer\n",
    "from keras.utils import pad_sequences\n",
    "from keras import regularizers\n",
    "\n",
    "max_words = 12000\n",
    "max_len = 100\n",
    "\n",
    "tokenizer = Tokenizer(num_words=max_words)\n",
    "tokenizer.fit_on_texts(df['message'])\n",
    "sequences = tokenizer.texts_to_sequences(df['message'])\n",
    "texts = pad_sequences(sequences, maxlen=max_len)\n",
    "texts.shape"
   ]
  },
  {
   "cell_type": "code",
   "execution_count": 159,
   "id": "96f009df",
   "metadata": {},
   "outputs": [
    {
     "data": {
      "text/plain": [
       "1"
      ]
     },
     "execution_count": 159,
     "metadata": {},
     "output_type": "execute_result"
    }
   ],
   "source": [
    "np.sum(texts[:,25]>0)"
   ]
  },
  {
   "cell_type": "code",
   "execution_count": 80,
   "id": "93fd21b3",
   "metadata": {},
   "outputs": [],
   "source": [
    "mapping = {'ham':0, 'spam':1}\n",
    "df.loc[:,'label'] = df.loc[:,'label'].map(mapping)"
   ]
  },
  {
   "cell_type": "code",
   "execution_count": 99,
   "id": "ccf1eadb",
   "metadata": {},
   "outputs": [
    {
     "data": {
      "text/plain": [
       "0"
      ]
     },
     "execution_count": 99,
     "metadata": {},
     "output_type": "execute_result"
    }
   ],
   "source": [
    "df.loc[4,'label']"
   ]
  },
  {
   "cell_type": "code",
   "execution_count": 130,
   "id": "50c396fc",
   "metadata": {},
   "outputs": [],
   "source": [
    "from keras.utils import to_categorical\n",
    "labels = to_categorical(df.loc[:,'label'].values, dtype =\"uint8\")"
   ]
  },
  {
   "cell_type": "code",
   "execution_count": 131,
   "id": "a016e024",
   "metadata": {},
   "outputs": [],
   "source": [
    "from sklearn.model_selection import train_test_split\n",
    "X_train, X_test, y_train, y_test = train_test_split(texts, labels, test_size=0.3, random_state=1)"
   ]
  },
  {
   "cell_type": "code",
   "execution_count": 142,
   "id": "340edde5",
   "metadata": {},
   "outputs": [],
   "source": [
    "from sklearn.model_selection import train_test_split\n",
    "X_train, X_test, y_train, y_test = train_test_split(texts, df.loc[:,'label'].values, test_size=0.3, random_state=1)"
   ]
  },
  {
   "cell_type": "code",
   "execution_count": 143,
   "id": "b8df7fc0",
   "metadata": {},
   "outputs": [
    {
     "data": {
      "text/plain": [
       "(3900,)"
      ]
     },
     "execution_count": 143,
     "metadata": {},
     "output_type": "execute_result"
    }
   ],
   "source": [
    "y_train.shape"
   ]
  },
  {
   "cell_type": "code",
   "execution_count": 144,
   "id": "916fe7b4",
   "metadata": {},
   "outputs": [],
   "source": [
    "from keras.models import Sequential\n",
    "from keras import layers\n",
    "from keras import regularizers\n",
    "from keras import backend as K\n",
    "from keras.callbacks import ModelCheckpoint"
   ]
  },
  {
   "cell_type": "code",
   "execution_count": 155,
   "id": "f38b01f3",
   "metadata": {},
   "outputs": [],
   "source": [
    "model = Sequential()\n",
    "model.add(layers.Embedding(max_words, 5)) #The embedding layer\n",
    "model.add(layers.LSTM(5,dropout=0.5)) #Our LSTM layer\n",
    "model.add(layers.Dense(1,activation='sigmoid'))"
   ]
  },
  {
   "cell_type": "code",
   "execution_count": 156,
   "id": "7c059b95",
   "metadata": {},
   "outputs": [
    {
     "name": "stdout",
     "output_type": "stream",
     "text": [
      "Epoch 1/25\n",
      "122/122 [==============================] - 6s 35ms/step - loss: 0.4996 - val_loss: 0.3896\n",
      "Epoch 2/25\n",
      "122/122 [==============================] - 4s 32ms/step - loss: 0.3327 - val_loss: 0.2388\n",
      "Epoch 3/25\n",
      "122/122 [==============================] - 4s 31ms/step - loss: 0.1659 - val_loss: 0.1418\n",
      "Epoch 4/25\n",
      "122/122 [==============================] - 4s 32ms/step - loss: 0.1079 - val_loss: 0.1047\n",
      "Epoch 5/25\n",
      "122/122 [==============================] - 4s 32ms/step - loss: 0.0814 - val_loss: 0.0889\n",
      "Epoch 6/25\n",
      "122/122 [==============================] - 4s 32ms/step - loss: 0.0623 - val_loss: 0.0741\n",
      "Epoch 7/25\n",
      "122/122 [==============================] - 4s 32ms/step - loss: 0.0476 - val_loss: 0.0663\n",
      "Epoch 8/25\n",
      "122/122 [==============================] - 4s 32ms/step - loss: 0.0395 - val_loss: 0.0623\n",
      "Epoch 9/25\n",
      "122/122 [==============================] - 4s 33ms/step - loss: 0.0299 - val_loss: 0.0594\n",
      "Epoch 10/25\n",
      "122/122 [==============================] - 4s 32ms/step - loss: 0.0241 - val_loss: 0.0561\n",
      "Epoch 11/25\n",
      "122/122 [==============================] - 4s 32ms/step - loss: 0.0194 - val_loss: 0.0557\n",
      "Epoch 12/25\n",
      "122/122 [==============================] - 4s 32ms/step - loss: 0.0167 - val_loss: 0.0515\n",
      "Epoch 13/25\n",
      "122/122 [==============================] - 4s 32ms/step - loss: 0.0144 - val_loss: 0.0516\n",
      "Epoch 14/25\n",
      "122/122 [==============================] - 4s 32ms/step - loss: 0.0131 - val_loss: 0.0506\n",
      "Epoch 15/25\n",
      "122/122 [==============================] - 4s 32ms/step - loss: 0.0115 - val_loss: 0.0506\n",
      "Epoch 16/25\n",
      "122/122 [==============================] - 4s 32ms/step - loss: 0.0089 - val_loss: 0.0517\n",
      "Epoch 17/25\n",
      "122/122 [==============================] - 4s 32ms/step - loss: 0.0083 - val_loss: 0.0525\n",
      "Epoch 18/25\n",
      "122/122 [==============================] - 4s 30ms/step - loss: 0.0062 - val_loss: 0.0520\n",
      "Epoch 19/25\n",
      "122/122 [==============================] - 4s 30ms/step - loss: 0.0084 - val_loss: 0.0577\n",
      "Epoch 20/25\n",
      "122/122 [==============================] - 4s 29ms/step - loss: 0.0065 - val_loss: 0.0556\n",
      "Epoch 21/25\n",
      "122/122 [==============================] - 4s 29ms/step - loss: 0.0041 - val_loss: 0.0534\n",
      "Epoch 22/25\n",
      "122/122 [==============================] - 4s 29ms/step - loss: 0.0044 - val_loss: 0.0593\n",
      "Epoch 23/25\n",
      "122/122 [==============================] - 4s 29ms/step - loss: 0.0039 - val_loss: 0.0590\n",
      "Epoch 24/25\n",
      "122/122 [==============================] - 4s 29ms/step - loss: 0.0035 - val_loss: 0.0554\n",
      "Epoch 25/25\n",
      "122/122 [==============================] - 4s 29ms/step - loss: 0.0045 - val_loss: 0.0563\n"
     ]
    },
    {
     "data": {
      "text/plain": [
       "<keras.callbacks.History at 0x22f456e2340>"
      ]
     },
     "execution_count": 156,
     "metadata": {},
     "output_type": "execute_result"
    }
   ],
   "source": [
    "model.compile(optimizer='adam',loss='binary_crossentropy') \n",
    "\n",
    "#checkpoint1 = ModelCheckpoint(\"best_model1.hdf5\", monitor='val_accuracy', verbose=1,save_best_only=True, mode='auto', period=1,save_weights_only=False)\n",
    "#history = model1.fit(X_train, y_train.ravel(), epochs=70,validation_data=(X_test, y_test.ravel()),callbacks=[checkpoint1])\n",
    "model.fit(x = X_train, y = y_train, epochs=25,validation_data=(X_test, y_test))"
   ]
  },
  {
   "cell_type": "code",
   "execution_count": 157,
   "id": "423ff340",
   "metadata": {},
   "outputs": [
    {
     "data": {
      "text/plain": [
       "<AxesSubplot:>"
      ]
     },
     "execution_count": 157,
     "metadata": {},
     "output_type": "execute_result"
    },
    {
     "data": {
      "image/png": "[encoded data removed]",
      "text/plain": [
       "<Figure size 640x480 with 1 Axes>"
      ]
     },
     "metadata": {},
     "output_type": "display_data"
    }
   ],
   "source": [
    "losses = pd.DataFrame(model.history.history)\n",
    "losses.plot()"
   ]
  },
  {
   "cell_type": "markdown",
   "id": "07e68833",
   "metadata": {},
   "source": [
    "#### Test for keras"
   ]
  },
  {
   "cell_type": "code",
   "execution_count": 3,
   "id": "6be7ffb0",
   "metadata": {},
   "outputs": [],
   "source": [
    "import tensorflow as tf\n",
    "text_dataset = tf.data.Dataset.from_tensor_slices([\"foo\", \"bar\", \"baz\"])"
   ]
  },
  {
   "cell_type": "code",
   "execution_count": 7,
   "id": "958fae65",
   "metadata": {},
   "outputs": [],
   "source": [
    "vectorize_layer = tf.keras.layers.TextVectorization(\n",
    " max_tokens=5000,\n",
    " output_mode='int',\n",
    " output_sequence_length=4)"
   ]
  },
  {
   "cell_type": "code",
   "execution_count": null,
   "id": "19174702",
   "metadata": {},
   "outputs": [],
   "source": []
  }
 ],
 "metadata": {
  "kernelspec": {
   "display_name": "Python 3 (ipykernel)",
   "language": "python",
   "name": "python3"
  },
  "language_info": {
   "codemirror_mode": {
    "name": "ipython",
    "version": 3
   },
   "file_extension": ".py",
   "mimetype": "text/x-python",
   "name": "python",
   "nbconvert_exporter": "python",
   "pygments_lexer": "ipython3",
   "version": "3.9.13"
  }
 },
 "nbformat": 4,
 "nbformat_minor": 5
}
