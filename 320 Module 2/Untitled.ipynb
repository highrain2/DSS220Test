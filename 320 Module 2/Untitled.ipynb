{
 "cells": [
  {
   "cell_type": "code",
   "execution_count": 1,
   "id": "6f4e2571",
   "metadata": {},
   "outputs": [],
   "source": [
    "import pandas as pd\n",
    "import numpy as np\n",
    "import matplotlib.pyplot as plt\n",
    "import seaborn as sns\n",
    "from sklearn import datasets\n",
    "\n",
    "# Workshop Functions\n",
    "import sys\n",
    "sys.path.append('..')\n",
    "from WKDSS320_functions import * "
   ]
  },
  {
   "cell_type": "code",
   "execution_count": 2,
   "id": "68c67baa",
   "metadata": {},
   "outputs": [],
   "source": [
    "import tensorflow as tf\n",
    "import tensorflow_datasets as tfds"
   ]
  },
  {
   "cell_type": "code",
   "execution_count": 5,
   "id": "28012989",
   "metadata": {},
   "outputs": [
    {
     "data": {
      "text/plain": [
       "(10000, 28, 28)"
      ]
     },
     "execution_count": 5,
     "metadata": {},
     "output_type": "execute_result"
    }
   ],
   "source": [
    "(X_train, y_train), (X_test,y_test) = tf.keras.datasets.mnist.load_data()\n",
    "X_test.shape"
   ]
  },
  {
   "cell_type": "code",
   "execution_count": 6,
   "id": "d05d522e",
   "metadata": {},
   "outputs": [
    {
     "data": {
      "text/plain": [
       "array([5, 0, 4, 1, 9], dtype=uint8)"
      ]
     },
     "execution_count": 6,
     "metadata": {},
     "output_type": "execute_result"
    }
   ],
   "source": [
    "y_train[0:5]"
   ]
  },
  {
   "cell_type": "code",
   "execution_count": 7,
   "id": "1304d017",
   "metadata": {},
   "outputs": [
    {
     "data": {
      "image/png": "[encoded data removed]",
      "text/plain": [
       "<Figure size 640x480 with 1 Axes>"
      ]
     },
     "metadata": {},
     "output_type": "display_data"
    }
   ],
   "source": [
    "plt.imshow(X_train[0], cmap='binary')\n",
    "plt.show()"
   ]
  },
  {
   "cell_type": "code",
   "execution_count": 8,
   "id": "e5d8c44a",
   "metadata": {},
   "outputs": [
    {
     "data": {
      "text/plain": [
       "5"
      ]
     },
     "execution_count": 8,
     "metadata": {},
     "output_type": "execute_result"
    }
   ],
   "source": [
    "y_train[0]"
   ]
  },
  {
   "cell_type": "code",
   "execution_count": 9,
   "id": "0c748680",
   "metadata": {},
   "outputs": [],
   "source": [
    "from keras.utils import to_categorical"
   ]
  },
  {
   "cell_type": "code",
   "execution_count": 10,
   "id": "96f14f8a",
   "metadata": {},
   "outputs": [],
   "source": [
    "y_train = to_categorical(y_train)\n",
    "y_test = to_categorical(y_test)"
   ]
  },
  {
   "cell_type": "code",
   "execution_count": 11,
   "id": "423abd0e",
   "metadata": {},
   "outputs": [
    {
     "data": {
      "text/plain": [
       "array([[0., 0., 0., 0., 0., 1., 0., 0., 0., 0.],\n",
       "       [1., 0., 0., 0., 0., 0., 0., 0., 0., 0.],\n",
       "       [0., 0., 0., 0., 1., 0., 0., 0., 0., 0.],\n",
       "       [0., 1., 0., 0., 0., 0., 0., 0., 0., 0.],\n",
       "       [0., 0., 0., 0., 0., 0., 0., 0., 0., 1.]], dtype=float32)"
      ]
     },
     "execution_count": 11,
     "metadata": {},
     "output_type": "execute_result"
    }
   ],
   "source": [
    "y_train[0:5]"
   ]
  },
  {
   "cell_type": "code",
   "execution_count": 12,
   "id": "56ccc3cb",
   "metadata": {},
   "outputs": [],
   "source": [
    "from keras.models import Sequential\n",
    "from keras.layers import Dense, Conv2D, Flatten, MaxPooling2D"
   ]
  },
  {
   "cell_type": "code",
   "execution_count": 14,
   "id": "89e60129",
   "metadata": {},
   "outputs": [],
   "source": [
    "model = Sequential()\n",
    "\n",
    "model.add(Conv2D(50,kernel_size=5,activation='relu',input_shape=(28,28,1)))\n",
    "model.add(MaxPooling2D(pool_size=(2,2),strides=(2,2),padding='valid'))\n",
    "\n",
    "model.add(Conv2D(25,kernel_size=3,activation='relu'))\n",
    "model.add(MaxPooling2D(pool_size=(2,2),strides=(2,2),padding='valid'))\n",
    "\n",
    "model.add(Flatten())\n",
    "model.add(Dense(10,activation='softmax'))"
   ]
  },
  {
   "cell_type": "code",
   "execution_count": 15,
   "id": "015861eb",
   "metadata": {},
   "outputs": [
    {
     "name": "stdout",
     "output_type": "stream",
     "text": [
      "Epoch 1/20\n",
      "1875/1875 [==============================] - 42s 20ms/step - loss: 0.3107 - val_loss: 0.0902\n",
      "Epoch 2/20\n",
      "1875/1875 [==============================] - 40s 21ms/step - loss: 0.0875 - val_loss: 0.0709\n",
      "Epoch 3/20\n",
      "1875/1875 [==============================] - 39s 21ms/step - loss: 0.0711 - val_loss: 0.0804\n",
      "Epoch 4/20\n",
      "1875/1875 [==============================] - 37s 20ms/step - loss: 0.0635 - val_loss: 0.0929\n",
      "Epoch 5/20\n",
      "1875/1875 [==============================] - 36s 19ms/step - loss: 0.0574 - val_loss: 0.0633\n",
      "Epoch 6/20\n",
      "1875/1875 [==============================] - 37s 19ms/step - loss: 0.0546 - val_loss: 0.0619\n",
      "Epoch 7/20\n",
      "1875/1875 [==============================] - 36s 19ms/step - loss: 0.0493 - val_loss: 0.0587\n",
      "Epoch 8/20\n",
      "1875/1875 [==============================] - 36s 19ms/step - loss: 0.0474 - val_loss: 0.0683\n",
      "Epoch 9/20\n",
      "1875/1875 [==============================] - 39s 21ms/step - loss: 0.0445 - val_loss: 0.0604\n",
      "Epoch 10/20\n",
      "1875/1875 [==============================] - 48s 26ms/step - loss: 0.0419 - val_loss: 0.0685\n",
      "Epoch 11/20\n",
      "1875/1875 [==============================] - 43s 23ms/step - loss: 0.0420 - val_loss: 0.0628\n",
      "Epoch 12/20\n",
      "1875/1875 [==============================] - 46s 25ms/step - loss: 0.0429 - val_loss: 0.0717\n",
      "Epoch 13/20\n",
      "1875/1875 [==============================] - 39s 21ms/step - loss: 0.0397 - val_loss: 0.0754\n",
      "Epoch 14/20\n",
      "1875/1875 [==============================] - 41s 22ms/step - loss: 0.0388 - val_loss: 0.0939\n",
      "Epoch 15/20\n",
      "1875/1875 [==============================] - 40s 21ms/step - loss: 0.0391 - val_loss: 0.0912\n",
      "Epoch 16/20\n",
      "1875/1875 [==============================] - 47s 25ms/step - loss: 0.0400 - val_loss: 0.0884\n",
      "Epoch 17/20\n",
      "1875/1875 [==============================] - 46s 25ms/step - loss: 0.0370 - val_loss: 0.0877\n",
      "Epoch 18/20\n",
      "1875/1875 [==============================] - 45s 24ms/step - loss: 0.0374 - val_loss: 0.1206\n",
      "Epoch 19/20\n",
      "1875/1875 [==============================] - 43s 23ms/step - loss: 0.0390 - val_loss: 0.1166\n",
      "Epoch 20/20\n",
      "1875/1875 [==============================] - 48s 25ms/step - loss: 0.0352 - val_loss: 0.1150\n"
     ]
    },
    {
     "data": {
      "text/plain": [
       "<keras.callbacks.History at 0x23451c47b20>"
      ]
     },
     "execution_count": 15,
     "metadata": {},
     "output_type": "execute_result"
    }
   ],
   "source": [
    "model.compile(optimizer='adam', loss='categorical_crossentropy')\n",
    "model.fit(x=X_train, y=y_train, epochs=20, validation_data=(X_test,y_test))"
   ]
  },
  {
   "cell_type": "code",
   "execution_count": 16,
   "id": "83726db3",
   "metadata": {},
   "outputs": [
    {
     "data": {
      "text/plain": [
       "<AxesSubplot:>"
      ]
     },
     "execution_count": 16,
     "metadata": {},
     "output_type": "execute_result"
    },
    {
     "data": {
      "image/png": "[encoded data removed]",
      "text/plain": [
       "<Figure size 640x480 with 1 Axes>"
      ]
     },
     "metadata": {},
     "output_type": "display_data"
    }
   ],
   "source": [
    "loss = pd.DataFrame(model.history.history)\n",
    "loss.plot()"
   ]
  },
  {
   "cell_type": "code",
   "execution_count": 17,
   "id": "2dc00b12",
   "metadata": {},
   "outputs": [],
   "source": [
    "from tensorflow.keras.callbacks import EarlyStopping"
   ]
  },
  {
   "cell_type": "code",
   "execution_count": 18,
   "id": "04561936",
   "metadata": {},
   "outputs": [],
   "source": [
    "earlyStop = EarlyStopping(monitor='val_loss', mode='min',verbose=1,patience=3)"
   ]
  },
  {
   "cell_type": "code",
   "execution_count": 19,
   "id": "da1a020e",
   "metadata": {},
   "outputs": [],
   "source": [
    "from tensorflow.keras.layers import Dropout"
   ]
  },
  {
   "cell_type": "code",
   "execution_count": 20,
   "id": "250e232e",
   "metadata": {},
   "outputs": [],
   "source": [
    "model = Sequential()\n",
    "\n",
    "model.add(Conv2D(50,kernel_size=5,activation='relu',input_shape=(28,28,1)))\n",
    "model.add(MaxPooling2D(pool_size=(2,2),strides=(2,2),padding='valid'))\n",
    "model.add(Dropout(0.5))\n",
    "\n",
    "model.add(Conv2D(25,kernel_size=3,activation='relu'))\n",
    "model.add(MaxPooling2D(pool_size=(2,2),strides=(2,2),padding='valid'))\n",
    "model.add(Dropout(0.5))\n",
    "\n",
    "model.add(Flatten())\n",
    "model.add(Dense(10,activation='softmax'))"
   ]
  },
  {
   "cell_type": "code",
   "execution_count": 21,
   "id": "d8965603",
   "metadata": {},
   "outputs": [
    {
     "name": "stdout",
     "output_type": "stream",
     "text": [
      "Epoch 1/20\n",
      "1875/1875 [==============================] - 42s 22ms/step - loss: 1.6228 - val_loss: 0.1712\n",
      "Epoch 2/20\n",
      "1875/1875 [==============================] - 41s 22ms/step - loss: 0.3109 - val_loss: 0.1091\n",
      "Epoch 3/20\n",
      "1875/1875 [==============================] - 41s 22ms/step - loss: 0.2396 - val_loss: 0.0856\n",
      "Epoch 4/20\n",
      "1875/1875 [==============================] - 42s 23ms/step - loss: 0.2146 - val_loss: 0.0752\n",
      "Epoch 5/20\n",
      "1875/1875 [==============================] - 42s 22ms/step - loss: 0.1994 - val_loss: 0.0590\n",
      "Epoch 6/20\n",
      "1875/1875 [==============================] - 42s 22ms/step - loss: 0.1892 - val_loss: 0.0689\n",
      "Epoch 7/20\n",
      "1875/1875 [==============================] - 43s 23ms/step - loss: 0.1784 - val_loss: 0.0655\n",
      "Epoch 8/20\n",
      "1875/1875 [==============================] - 42s 22ms/step - loss: 0.1789 - val_loss: 0.0660\n",
      "Epoch 8: early stopping\n"
     ]
    },
    {
     "data": {
      "text/plain": [
       "<keras.callbacks.History at 0x23451ff2f70>"
      ]
     },
     "execution_count": 21,
     "metadata": {},
     "output_type": "execute_result"
    }
   ],
   "source": [
    "model.compile(optimizer='adam', loss='categorical_crossentropy')\n",
    "model.fit(x=X_train, y=y_train, epochs=20, validation_data=(X_test,y_test),callbacks=[earlyStop])"
   ]
  },
  {
   "cell_type": "code",
   "execution_count": 22,
   "id": "22935a94",
   "metadata": {},
   "outputs": [
    {
     "data": {
      "text/plain": [
       "<AxesSubplot:>"
      ]
     },
     "execution_count": 22,
     "metadata": {},
     "output_type": "execute_result"
    },
    {
     "data": {
      "image/png": "[encoded data removed]",
      "text/plain": [
       "<Figure size 640x480 with 1 Axes>"
      ]
     },
     "metadata": {},
     "output_type": "display_data"
    }
   ],
   "source": [
    "losses = pd.DataFrame(model.history.history)\n",
    "losses.plot()"
   ]
  },
  {
   "cell_type": "code",
   "execution_count": 23,
   "id": "37ba382d",
   "metadata": {},
   "outputs": [
    {
     "name": "stdout",
     "output_type": "stream",
     "text": [
      "313/313 [==============================] - 4s 5ms/step\n"
     ]
    },
    {
     "data": {
      "text/plain": [
       "(10000, 10)"
      ]
     },
     "execution_count": 23,
     "metadata": {},
     "output_type": "execute_result"
    }
   ],
   "source": [
    "ypred = model.predict(X_test)\n",
    "ypred.shape"
   ]
  },
  {
   "cell_type": "code",
   "execution_count": 24,
   "id": "b8579480",
   "metadata": {},
   "outputs": [
    {
     "data": {
      "text/plain": [
       "array([4.5716587e-07, 4.0430120e-08, 2.4957413e-05, 9.3552953e-05,\n",
       "       2.5298736e-08, 2.5964262e-08, 1.2078233e-12, 9.9987638e-01,\n",
       "       3.6936621e-07, 4.1797257e-06], dtype=float32)"
      ]
     },
     "execution_count": 24,
     "metadata": {},
     "output_type": "execute_result"
    }
   ],
   "source": [
    "ypred[0]"
   ]
  },
  {
   "cell_type": "code",
   "execution_count": 25,
   "id": "bf48446e",
   "metadata": {},
   "outputs": [
    {
     "data": {
      "text/plain": [
       "array([0., 0., 0., 0., 0., 0., 0., 1., 0., 0.], dtype=float32)"
      ]
     },
     "execution_count": 25,
     "metadata": {},
     "output_type": "execute_result"
    }
   ],
   "source": [
    "y_test[0]"
   ]
  },
  {
   "cell_type": "code",
   "execution_count": 26,
   "id": "48939ba5",
   "metadata": {},
   "outputs": [
    {
     "data": {
      "image/png": "[encoded data removed]",
      "text/plain": [
       "<Figure size 640x480 with 1 Axes>"
      ]
     },
     "metadata": {},
     "output_type": "display_data"
    }
   ],
   "source": [
    "plt.bar(x=range(10), height=ypred[0])\n",
    "plt.show()"
   ]
  },
  {
   "cell_type": "code",
   "execution_count": 27,
   "id": "f5e79a96",
   "metadata": {},
   "outputs": [
    {
     "data": {
      "image/png": "[encoded data removed]",
      "text/plain": [
       "<Figure size 640x480 with 1 Axes>"
      ]
     },
     "metadata": {},
     "output_type": "display_data"
    }
   ],
   "source": [
    "plt.imshow(X_test[0], cmap='binary')\n",
    "plt.show()"
   ]
  },
  {
   "cell_type": "code",
   "execution_count": 28,
   "id": "bbe97611",
   "metadata": {},
   "outputs": [
    {
     "data": {
      "text/plain": [
       "(array([  73,  184,  241,  324,  358,  447,  497,  552,  571,  582,  583,\n",
       "         619,  659,  740,  844,  898, 1039, 1050, 1156, 1178, 1206, 1226,\n",
       "        1242, 1248, 1326, 1328, 1364, 1500, 1553, 1686, 1691, 1709, 1737,\n",
       "        1759, 1982, 2018, 2043, 2052, 2129, 2130, 2179, 2189, 2200, 2237,\n",
       "        2272, 2293, 2398, 2422, 2488, 2526, 2654, 2780, 2930, 2938, 2970,\n",
       "        2995, 3060, 3062, 3129, 3329, 3330, 3369, 3384, 3474, 3511, 3534,\n",
       "        3597, 3749, 3767, 3780, 3833, 3853, 3926, 3954, 3988, 4163, 4199,\n",
       "        4359, 4369, 4439, 4454, 4482, 4543, 4571, 4740, 4743, 4837, 4860,\n",
       "        4886, 4956, 5086, 5152, 5298, 5331, 5634, 5997, 6091, 6495, 6555,\n",
       "        6558, 6560, 6568, 6571, 6576, 6603, 6625, 6740, 6744, 7235, 7432,\n",
       "        7434, 7902, 8020, 8059, 8061, 8246, 8316, 8520, 9071, 9539, 9620,\n",
       "        9679, 9692, 9749, 9768, 9792, 9904], dtype=int64),)"
      ]
     },
     "execution_count": 28,
     "metadata": {},
     "output_type": "execute_result"
    }
   ],
   "source": [
    "np.where(np.max(ypred,axis=1)<0.55)"
   ]
  },
  {
   "cell_type": "code",
   "execution_count": 36,
   "id": "9cb40600",
   "metadata": {},
   "outputs": [
    {
     "data": {
      "image/png": "[encoded data removed]",
      "text/plain": [
       "<Figure size 640x480 with 1 Axes>"
      ]
     },
     "metadata": {},
     "output_type": "display_data"
    }
   ],
   "source": [
    "plt.bar(x=range(10),height=ypred[241])\n",
    "plt.show()"
   ]
  },
  {
   "cell_type": "code",
   "execution_count": 37,
   "id": "fea4f5b4",
   "metadata": {},
   "outputs": [
    {
     "data": {
      "image/png": "[encoded data removed]",
      "text/plain": [
       "<Figure size 640x480 with 1 Axes>"
      ]
     },
     "metadata": {},
     "output_type": "display_data"
    }
   ],
   "source": [
    "plt.imshow(X_test[241],cmap='binary')\n",
    "plt.show()"
   ]
  },
  {
   "cell_type": "code",
   "execution_count": null,
   "id": "aa087afd",
   "metadata": {},
   "outputs": [],
   "source": []
  }
 ],
 "metadata": {
  "kernelspec": {
   "display_name": "Python 3 (ipykernel)",
   "language": "python",
   "name": "python3"
  },
  "language_info": {
   "codemirror_mode": {
    "name": "ipython",
    "version": 3
   },
   "file_extension": ".py",
   "mimetype": "text/x-python",
   "name": "python",
   "nbconvert_exporter": "python",
   "pygments_lexer": "ipython3",
   "version": "3.9.13"
  }
 },
 "nbformat": 4,
 "nbformat_minor": 5
}
